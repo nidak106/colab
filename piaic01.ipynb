{
  "nbformat": 4,
  "nbformat_minor": 0,
  "metadata": {
    "colab": {
      "provenance": [],
      "authorship_tag": "ABX9TyPln/P83uhvQra1ix7X0cD7",
      "include_colab_link": true
    },
    "kernelspec": {
      "name": "python3",
      "display_name": "Python 3"
    },
    "language_info": {
      "name": "python"
    }
  },
  "cells": [
    {
      "cell_type": "markdown",
      "metadata": {
        "id": "view-in-github",
        "colab_type": "text"
      },
      "source": [
        "<a href=\"https://colab.research.google.com/github/nidak106/colab/blob/main/piaic01.ipynb\" target=\"_parent\"><img src=\"https://colab.research.google.com/assets/colab-badge.svg\" alt=\"Open In Colab\"/></a>"
      ]
    },
    {
      "cell_type": "code",
      "execution_count": null,
      "metadata": {
        "id": "7fJA1ULAxVCB",
        "colab": {
          "base_uri": "https://localhost:8080/"
        },
        "outputId": "f41466ca-6d75-41fc-b6e5-9ab9f1dc5394"
      },
      "outputs": [
        {
          "output_type": "stream",
          "name": "stdout",
          "text": [
            "hello world\n"
          ]
        }
      ],
      "source": [
        "print(\"hello world\")"
      ]
    },
    {
      "cell_type": "code",
      "source": [
        "# prompt: write a function to display a list of fruits\n",
        "\n",
        "def display_fruits():\n",
        "  fruits = [\"apple\", \"banana\", \"cherry\"]\n",
        "  for fruit in fruits:\n",
        "    print(fruit)\n",
        "display_fruits()\n"
      ],
      "metadata": {
        "id": "0VDqzu6uxVt7",
        "colab": {
          "base_uri": "https://localhost:8080/"
        },
        "outputId": "06c9cb73-29c4-4f34-ff62-8caf357ad8dc"
      },
      "execution_count": null,
      "outputs": [
        {
          "output_type": "stream",
          "name": "stdout",
          "text": [
            "apple\n",
            "banana\n",
            "cherry\n"
          ]
        }
      ]
    },
    {
      "cell_type": "code",
      "source": [],
      "metadata": {
        "id": "bD0v2h7vF5Mt"
      },
      "execution_count": null,
      "outputs": []
    }
  ]
}